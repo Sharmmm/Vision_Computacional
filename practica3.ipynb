{
 "cells": [
  {
   "cell_type": "markdown",
   "metadata": {},
   "source": [
    "1.- Aplicar un filtro de la media a la imagen lena_ruido.jpg. Usar una matriz de 31x31\n",
    "elementos como filtro, del siguiente estilo:\n",
    "\n",
    "\n",
    "! [clic_imagen](https://github.com/Sharmmm/Vision_Computacional/blob/main/tarea_matriz.jpeg)\n"
   ]
  },
  {
   "cell_type": "markdown",
   "metadata": {},
   "source": [
    "Guardar imagen modificada"
   ]
  },
  {
   "cell_type": "code",
   "execution_count": 2,
   "metadata": {},
   "outputs": [],
   "source": [
    "import numpy as np\n",
    "import cv2 as cv\n",
    "def guardar_imagen(image,nombre):\n",
    "    #Porcentaje en el que se redimensiona la imagen\n",
    "    scale_percent = 30\n",
    "    #calcular el 50 por ciento de las dimensiones originales\n",
    "    width = int(image.shape[1] * scale_percent / 100)\n",
    "    height = int(image.shape[0] * scale_percent / 100)\n",
    "    # dsize\n",
    "    dsize = (width, height)\n",
    "    # cambiar el tamaño de la image\n",
    "    output = cv.resize(image, dsize)\n",
    "    # Grabar la imagen modificada con el ruido\n",
    "    cv.imwrite(nombre, output)\n",
    "    # Mostrar la imagen modificada\n",
    "    #cv.imshow(nombre, output)\n",
    "    cv.waitKey(0)"
   ]
  },
  {
   "cell_type": "code",
   "execution_count": 3,
   "metadata": {},
   "outputs": [
    {
     "data": {
      "text/plain": [
       "-1"
      ]
     },
     "execution_count": 3,
     "metadata": {},
     "output_type": "execute_result"
    }
   ],
   "source": [
    "\n",
    "#cargar la imagen \n",
    "img=cv.imread(\"images/lena_ruido.jpg\",1)\n",
    "\n",
    "#creamos la matriz 31x31\n",
    "filter=np.ones((31,31),dtype=np.uint8)\n",
    "filter=filter/(31**2) \n",
    "\n",
    "#aplicamos la funcion de filter a la imagen\n",
    "img_out=cv.filter2D(img,-1,filter)\n",
    "#guardar imagen\n",
    "guardar_imagen(img_out,\"lena_ruido_filtro.jpg\")\n",
    "#mostrar imagenes\n",
    "cv.imshow(\"lena_ruido original\",img)\n",
    "cv.imshow(\"lena_ruido con filtro\",img_out)\n",
    "cv.waitKey(0)  \n",
    "\n"
   ]
  },
  {
   "cell_type": "markdown",
   "metadata": {},
   "source": [
    "#imagen original\n",
    "\n",
    "<img src=\"images/lena_ruido.jpg\">\n",
    "\n",
    "#con filtro\n",
    "\n",
    "<img src=\"lena_ruido_filtro.jpg\">"
   ]
  },
  {
   "cell_type": "markdown",
   "metadata": {},
   "source": [
    "2.- Cargar la imagen insta.jpg. Introducir ruido gaussiano y ruido sal y pimienta a la\n",
    "imagen. Probar con distintos tipos de filtros hasta obtener una imagen de calidad\n",
    "para los ruidos anteriormente introducidos. ¿Qué tipo de filtro funciona mejor en\n",
    "cada uno de los casos anteriores? Justifica tu respuesta-."
   ]
  },
  {
   "cell_type": "markdown",
   "metadata": {},
   "source": [
    "Agregamos ruido"
   ]
  },
  {
   "cell_type": "code",
   "execution_count": 6,
   "metadata": {},
   "outputs": [],
   "source": [
    "from skimage.util import random_noise\n",
    "# cargar la imagen\n",
    "img = cv.imread(\"images\\insta.jpg\")\n",
    "# agregar diferentes tipos de ruido a la imagen\n",
    "img_ruido_gaussian = random_noise(img, mode='gaussian', clip=True)\n",
    "img_ruido_sp = random_noise(img, mode='s&p',amount=0.20)\n",
    "#Las funciones anteriores devuelven una imagen de punto flotante\n",
    "#en el rango de [0,1], los cambiamos a 'uint8'\n",
    "#y de [0,255]\n",
    "#ruido gaussiano\n",
    "img_ruido_gaussian = np.array(255*img_ruido_gaussian, dtype = 'uint8')\n",
    "#ruido pimienta y sal\n",
    "img_ruido_sp = np.array(255*img_ruido_sp, dtype = 'uint8')\n",
    "# guardar las imagenes modificadas\n",
    "guardar_imagen(img_ruido_gaussian,\"insta_ruido_gaussian.jpg\")\n",
    "guardar_imagen(img_ruido_sp,\"insta_ruido_sp.jpg\")\n"
   ]
  },
  {
   "cell_type": "markdown",
   "metadata": {},
   "source": [
    "Ruido gaussiano\n",
    "\n",
    "<img src=\"insta_ruido_gaussian.jpg\">\n",
    "\n"
   ]
  },
  {
   "cell_type": "markdown",
   "metadata": {},
   "source": [
    "Ruido sal & pimienta\n",
    "\n",
    "<img src=\"insta_ruido_sp.jpg\">"
   ]
  },
  {
   "cell_type": "markdown",
   "metadata": {},
   "source": [
    "Filtro Gaussiano"
   ]
  },
  {
   "cell_type": "code",
   "execution_count": 7,
   "metadata": {},
   "outputs": [],
   "source": [
    "#filtro gaussiano\n",
    "def filter_gauss(imagen,filter,nombre):\n",
    "    # leer imagen\n",
    "    src = cv.imread(imagen, cv.IMREAD_UNCHANGED)\n",
    "    # aplicar el filtro gaussiano\n",
    "    dst = cv.GaussianBlur(src,filter,cv.BORDER_DEFAULT)\n",
    "    #guardar imagen\n",
    "    guardar_imagen(dst,nombre)\n",
    "    # mostrar la imagen original y la imagen filtrada\n",
    "    cv.imshow(\"Gaussian Smoothing\", dst)\n",
    "    cv.waitKey(0)"
   ]
  },
  {
   "cell_type": "markdown",
   "metadata": {},
   "source": [
    "Filtro de mediano"
   ]
  },
  {
   "cell_type": "code",
   "execution_count": 8,
   "metadata": {},
   "outputs": [],
   "source": [
    "#filtro mediano\n",
    "def filtter_mediano(image,filter,nombre):\n",
    "    imageread = cv.imread(image)\n",
    "    #usando la función medianBlur() para eliminar el ruido de la imagen\n",
    "    imagenormal = cv.medianBlur(imageread, filter)\n",
    "    #guardar imagen\n",
    "    guardar_imagen(imagenormal,nombre)\n",
    "    #mostrando la imagen sin ruido como la salida en la pantalla\n",
    "    cv.imshow('Noiseless_image',imagenormal)\n",
    "    cv.waitKey(0)\n",
    "    cv.destroyAllWindows()"
   ]
  },
  {
   "cell_type": "markdown",
   "metadata": {},
   "source": [
    "Filtro Promedio"
   ]
  },
  {
   "cell_type": "code",
   "execution_count": 9,
   "metadata": {},
   "outputs": [],
   "source": [
    "#Filtro promedio\n",
    "def filtter_prom(image,filter,nombre):\n",
    "    # cargar las imágenes\n",
    "    img1 = cv.imread(image)\n",
    "    # Realización de difuminado promedio de la primera imagen\n",
    "    blurred_1 = np.hstack([\n",
    "    cv.blur(img1,filter)])\n",
    "    #guardar imagen\n",
    "    guardar_imagen(blurred_1,nombre)\n",
    "    #mostrar imagen de salida\n",
    "    cv.imshow(\"blurred\",blurred_1)\n",
    "    cv.waitKey(0)\n",
    "    cv.destroyAllWindows()"
   ]
  },
  {
   "cell_type": "markdown",
   "metadata": {},
   "source": [
    "Utilizamos los filtros en las imagenes con ruido gaussiano"
   ]
  },
  {
   "cell_type": "code",
   "execution_count": 10,
   "metadata": {},
   "outputs": [],
   "source": [
    "#utilizamos los filtros en las imagenes con ruido gaussiano\n",
    "filter_gauss(\"insta_ruido_gaussian.jpg\",(3,3),\"imagen1_gauss.jpg\")\n",
    "filtter_mediano(\"insta_ruido_gaussian.jpg\",5,\"imagen2_gauss.jpg\")\n",
    "filtter_prom(\"insta_ruido_gaussian.jpg\",(7,7),\"imagen3_gauss.jpg\")\n"
   ]
  },
  {
   "cell_type": "markdown",
   "metadata": {},
   "source": [
    "Resultados\n",
    "\n",
    "Ruido gaussiano con filtro gaussiano\n",
    "\n",
    "<img src=\"imagen1_gauss.jpg\">\n"
   ]
  },
  {
   "cell_type": "markdown",
   "metadata": {},
   "source": [
    "\n",
    "Ruido gaussiano con filtro mediano\n",
    "\n",
    "<img src=\"imagen2_gauss.jpg\">\n",
    "\n"
   ]
  },
  {
   "cell_type": "markdown",
   "metadata": {},
   "source": [
    "Ruido gaussiano con filtro promediado\n",
    "\n",
    "<img src=\"imagen3_gauss.jpg\">"
   ]
  },
  {
   "cell_type": "markdown",
   "metadata": {},
   "source": [
    "Conclusiones:\n",
    "- de las 3 imagenes con ruido gaussiano al momento de aplicar los diferentes filtros se puede observar que la mejor imagen despues de probar varios tamanios de filtros, se tiene con el filtro gaussiano, debido a que si nosotros ingresamos un valor en el tamanio del filtro grande, se pierde la calidad de la imagen, pero en este caso tratamos de que sea menor.\n",
    "- Con los otros filtros, al momento de ingresar el tamanio del filtro las imagenes se hacian mas borrosas o en el caso contrario, se seguian notando el ruido. \n",
    "- El peor de todos al momento de trabajar con el ruido gaussiano es el filtro promediado, no se notan mucho el contenido de la imagen.\n"
   ]
  },
  {
   "cell_type": "markdown",
   "metadata": {},
   "source": [
    "Utilizamos los filtros en las imagenes con ruido s&p"
   ]
  },
  {
   "cell_type": "code",
   "execution_count": 11,
   "metadata": {},
   "outputs": [],
   "source": [
    "filter_gauss(\"insta_ruido_sp.jpg\",(3,3),\"imagen1_sp.jpg\")\n",
    "filtter_mediano(\"insta_ruido_sp.jpg\",5,\"imagen2_sp.jpg\")\n",
    "filtter_prom(\"insta_ruido_sp.jpg\",(5,5),\"imagen3_sp.jpg\")\n"
   ]
  },
  {
   "cell_type": "markdown",
   "metadata": {},
   "source": [
    "Resultados\n",
    "\n",
    "Ruido s&p con filtro gaussiano\n",
    "\n",
    "<img src=\"imagen1_sp.jpg\">\n",
    "\n"
   ]
  },
  {
   "cell_type": "markdown",
   "metadata": {},
   "source": [
    "Ruido s&p con filtro mediano\n",
    "\n",
    "<img src=\"imagen2_sp.jpg\">\n",
    "\n"
   ]
  },
  {
   "cell_type": "markdown",
   "metadata": {},
   "source": [
    "Ruido s&p con filtro promediado\n",
    "\n",
    "<img src=\"imagen3_sp.jpg\">"
   ]
  },
  {
   "cell_type": "markdown",
   "metadata": {},
   "source": [
    "Conclusiones:\n",
    "\n",
    "-Como podemos observar luego de trabajar con la imagen que tiene ruido s&p, se tiene una mejor imagen con el filtro mediano.\n",
    "\n",
    "-En este caso las pruebas se estan realizando con el mismo tamanio de filtro, pero los resultados son distintos y mas notorios comparando entre el filtro gaussiano y mediano.\n",
    "\n",
    "-Con el filtro gaussiano se puede observar que aun hay un poco de ruido.\n",
    "\n",
    "-Con el filtro promediado se puede observar que pese a que el ruido ya no esta, la imagen ya no es tan buena como la imagen con el filtro de mediano, es mas algunas cosas de la imagen ya no se notan.\n",
    "\n",
    "-Cuanto mayor es la máscara, mayor es el efecto de difuminación de la imagen."
   ]
  }
 ],
 "metadata": {
  "interpreter": {
   "hash": "7b16d70df2d2255d66bf35796f80d1a0c1c1cc6721f2efa4f874aef43170f8bf"
  },
  "kernelspec": {
   "display_name": "Python 3.10.4 64-bit",
   "language": "python",
   "name": "python3"
  },
  "language_info": {
   "codemirror_mode": {
    "name": "ipython",
    "version": 3
   },
   "file_extension": ".py",
   "mimetype": "text/x-python",
   "name": "python",
   "nbconvert_exporter": "python",
   "pygments_lexer": "ipython3",
   "version": "3.10.4"
  },
  "orig_nbformat": 4
 },
 "nbformat": 4,
 "nbformat_minor": 2
}
